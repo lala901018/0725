{
  "nbformat": 4,
  "nbformat_minor": 0,
  "metadata": {
    "colab": {
      "provenance": [],
      "authorship_tag": "ABX9TyOclxEVI+aXCwGF2MZYt6Ed",
      "include_colab_link": true
    },
    "kernelspec": {
      "name": "python3",
      "display_name": "Python 3"
    },
    "language_info": {
      "name": "python"
    }
  },
  "cells": [
    {
      "cell_type": "markdown",
      "metadata": {
        "id": "view-in-github",
        "colab_type": "text"
      },
      "source": [
        "<a href=\"https://colab.research.google.com/github/lala901018/0725/blob/main/untitled3.ipynb\" target=\"_parent\"><img src=\"https://colab.research.google.com/assets/colab-badge.svg\" alt=\"Open In Colab\"/></a>"
      ]
    },
    {
      "cell_type": "markdown",
      "source": [
        "# **Numpy**"
      ],
      "metadata": {
        "id": "_mn55-XDIQFt"
      }
    },
    {
      "cell_type": "code",
      "execution_count": null,
      "metadata": {
        "id": "eVTbbVfRqu5J"
      },
      "outputs": [],
      "source": [
        "import numpy as np"
      ]
    },
    {
      "cell_type": "markdown",
      "source": [
        "# **格點**"
      ],
      "metadata": {
        "id": "lKsXRqjIq2An"
      }
    },
    {
      "cell_type": "code",
      "source": [
        "x = np.array([1, 2, 3]) #numpy.array最基本用來創造array的方法，常用於初始化陣列\n",
        "x\n"
      ],
      "metadata": {
        "colab": {
          "base_uri": "https://localhost:8080/"
        },
        "id": "M8db2dUYrF-Q",
        "outputId": "4c3c5dd4-eef3-40ef-9acc-f03f08cbb48d"
      },
      "execution_count": null,
      "outputs": [
        {
          "output_type": "execute_result",
          "data": {
            "text/plain": [
              "array([1, 2, 3])"
            ]
          },
          "metadata": {},
          "execution_count": 24
        }
      ]
    },
    {
      "cell_type": "code",
      "source": [
        "y = np.arange(10)\n",
        "y"
      ],
      "metadata": {
        "colab": {
          "base_uri": "https://localhost:8080/"
        },
        "id": "82dwPbPornhG",
        "outputId": "e3285380-6871-4840-98c5-8c388b1c5188"
      },
      "execution_count": null,
      "outputs": [
        {
          "output_type": "execute_result",
          "data": {
            "text/plain": [
              "array([0, 1, 2, 3, 4, 5, 6, 7, 8, 9])"
            ]
          },
          "metadata": {},
          "execution_count": 25
        }
      ]
    },
    {
      "cell_type": "markdown",
      "source": [],
      "metadata": {
        "id": "7XFYrhfkrFCP"
      }
    },
    {
      "cell_type": "markdown",
      "source": [
        "# **基本運算**"
      ],
      "metadata": {
        "id": "tnHsnd8HtiUN"
      }
    },
    {
      "cell_type": "code",
      "source": [
        "a = np.array([1, 2, 3, 6])\n",
        "b = np.linspace(0, 2, 4) #linspace在一定範圍來均勻地撒點，(等差)\n",
        "c = a - b\n",
        "c"
      ],
      "metadata": {
        "colab": {
          "base_uri": "https://localhost:8080/"
        },
        "id": "F39hqAmntrSu",
        "outputId": "d1ec7675-0e22-44cd-9aa6-78848157c94f"
      },
      "execution_count": null,
      "outputs": [
        {
          "output_type": "execute_result",
          "data": {
            "text/plain": [
              "array([1.        , 1.33333333, 1.66666667, 4.        ])"
            ]
          },
          "metadata": {},
          "execution_count": 23
        }
      ]
    },
    {
      "cell_type": "code",
      "source": [
        "a**2\n"
      ],
      "metadata": {
        "colab": {
          "base_uri": "https://localhost:8080/"
        },
        "id": "07LJjpUeuCsQ",
        "outputId": "8373cf9e-ed74-4da8-d429-932b9f35397c"
      },
      "execution_count": null,
      "outputs": [
        {
          "output_type": "execute_result",
          "data": {
            "text/plain": [
              "array([ 1,  4,  9, 36])"
            ]
          },
          "metadata": {},
          "execution_count": 26
        }
      ]
    },
    {
      "cell_type": "markdown",
      "source": [
        "# **全域方法**"
      ],
      "metadata": {
        "id": "trZixLZmuEyY"
      }
    },
    {
      "cell_type": "code",
      "source": [
        "a = np.linspace(-np.pi, np.pi, 100)\n",
        "b = np.sin(a)\n",
        "c = np.cos(a)"
      ],
      "metadata": {
        "id": "YftJxpLVuIIZ",
        "colab": {
          "base_uri": "https://localhost:8080/",
          "height": 204
        },
        "outputId": "9184ebf2-ac2b-4dfa-a32b-0c21b0d92911"
      },
      "execution_count": null,
      "outputs": [
        {
          "output_type": "error",
          "ename": "NameError",
          "evalue": "ignored",
          "traceback": [
            "\u001b[0;31m---------------------------------------------------------------------------\u001b[0m",
            "\u001b[0;31mNameError\u001b[0m                                 Traceback (most recent call last)",
            "\u001b[0;32m<ipython-input-5-4b80ce760b3d>\u001b[0m in \u001b[0;36m<cell line: 1>\u001b[0;34m()\u001b[0m\n\u001b[0;32m----> 1\u001b[0;31m \u001b[0ma\u001b[0m \u001b[0;34m=\u001b[0m \u001b[0mnp\u001b[0m\u001b[0;34m.\u001b[0m\u001b[0mlinspace\u001b[0m\u001b[0;34m(\u001b[0m\u001b[0;34m-\u001b[0m\u001b[0mpi\u001b[0m\u001b[0;34m,\u001b[0m \u001b[0mpi\u001b[0m\u001b[0;34m,\u001b[0m \u001b[0;36m100\u001b[0m\u001b[0;34m)\u001b[0m\u001b[0;34m\u001b[0m\u001b[0;34m\u001b[0m\u001b[0m\n\u001b[0m\u001b[1;32m      2\u001b[0m \u001b[0mb\u001b[0m \u001b[0;34m=\u001b[0m \u001b[0mnp\u001b[0m\u001b[0;34m.\u001b[0m\u001b[0msin\u001b[0m\u001b[0;34m(\u001b[0m\u001b[0ma\u001b[0m\u001b[0;34m)\u001b[0m\u001b[0;34m\u001b[0m\u001b[0;34m\u001b[0m\u001b[0m\n\u001b[1;32m      3\u001b[0m \u001b[0mc\u001b[0m \u001b[0;34m=\u001b[0m \u001b[0mnp\u001b[0m\u001b[0;34m.\u001b[0m\u001b[0mcos\u001b[0m\u001b[0;34m(\u001b[0m\u001b[0ma\u001b[0m\u001b[0;34m)\u001b[0m\u001b[0;34m\u001b[0m\u001b[0;34m\u001b[0m\u001b[0m\n",
            "\u001b[0;31mNameError\u001b[0m: name 'np' is not defined"
          ]
        }
      ]
    },
    {
      "cell_type": "markdown",
      "source": [
        "# **線性代數**"
      ],
      "metadata": {
        "id": "zHi60TL4uQpR"
      }
    },
    {
      "cell_type": "code",
      "source": [
        "from numpy.random import rand\n",
        "from numpy.linalg import solve, inv\n",
        "a = np.array([[1, 2, 3], [3, 4, 6.7], [5, 9.0, 5]])\n",
        "a.transpose()"
      ],
      "metadata": {
        "colab": {
          "base_uri": "https://localhost:8080/"
        },
        "id": "b3e_smuyuTaB",
        "outputId": "0b67a688-d344-461a-9768-05202b2bad69"
      },
      "execution_count": null,
      "outputs": [
        {
          "output_type": "execute_result",
          "data": {
            "text/plain": [
              "array([[1. , 3. , 5. ],\n",
              "       [2. , 4. , 9. ],\n",
              "       [3. , 6.7, 5. ]])"
            ]
          },
          "metadata": {},
          "execution_count": 28
        }
      ]
    },
    {
      "cell_type": "code",
      "source": [
        "inv(a)"
      ],
      "metadata": {
        "colab": {
          "base_uri": "https://localhost:8080/"
        },
        "id": "nqid8g-8uaV6",
        "outputId": "d21d8325-a5a7-4c37-f66e-284cbd577bcc"
      },
      "execution_count": null,
      "outputs": [
        {
          "output_type": "execute_result",
          "data": {
            "text/plain": [
              "array([[-2.27683616,  0.96045198,  0.07909605],\n",
              "       [ 1.04519774, -0.56497175,  0.1299435 ],\n",
              "       [ 0.39548023,  0.05649718, -0.11299435]])"
            ]
          },
          "metadata": {},
          "execution_count": 29
        }
      ]
    },
    {
      "cell_type": "code",
      "source": [
        "b =  np.array([3, 2, 1])\n",
        "solve(a, b) # 解方程式 ax = b"
      ],
      "metadata": {
        "colab": {
          "base_uri": "https://localhost:8080/"
        },
        "id": "3bwGqJoXuckC",
        "outputId": "c3047863-569b-4a7b-a8f8-8f329132438d"
      },
      "execution_count": null,
      "outputs": [
        {
          "output_type": "execute_result",
          "data": {
            "text/plain": [
              "array([-4.83050847,  2.13559322,  1.18644068])"
            ]
          },
          "metadata": {},
          "execution_count": 30
        }
      ]
    },
    {
      "cell_type": "code",
      "source": [
        "c = rand(3, 3) # 建立一個 3x3 隨機矩陣\n",
        "c"
      ],
      "metadata": {
        "colab": {
          "base_uri": "https://localhost:8080/"
        },
        "id": "qGwZM-rvug3i",
        "outputId": "e7972f2d-21de-40c5-95b7-a20a23d821e9"
      },
      "execution_count": null,
      "outputs": [
        {
          "output_type": "execute_result",
          "data": {
            "text/plain": [
              "array([[0.7648824 , 0.78654744, 0.13363304],\n",
              "       [0.01026124, 0.26283777, 0.49167493],\n",
              "       [0.55159295, 0.51234576, 0.18694295]])"
            ]
          },
          "metadata": {},
          "execution_count": 31
        }
      ]
    },
    {
      "cell_type": "code",
      "source": [
        "np.dot(a, c) # 矩陣相乘"
      ],
      "metadata": {
        "colab": {
          "base_uri": "https://localhost:8080/"
        },
        "id": "A0VwNuwZuiqy",
        "outputId": "9781ee7a-031a-4b5a-d48b-5037b71ea3b0"
      },
      "execution_count": null,
      "outputs": [
        {
          "output_type": "execute_result",
          "data": {
            "text/plain": [
              "array([[2.44018373, 2.84926026, 1.67781176],\n",
              "       [6.03136492, 6.84370998, 3.62011664],\n",
              "       [6.67472792, 8.86000592, 6.02795436]])"
            ]
          },
          "metadata": {},
          "execution_count": 33
        }
      ]
    },
    {
      "cell_type": "code",
      "source": [
        "import requests\n",
        "from io import StringIO\n",
        "import pandas as pd\n",
        "import numpy as np\n",
        "\n",
        "datestr = '20180131'\n",
        "\n",
        "# 下載股價\n",
        "r = requests.post('https://www.twse.com.tw/exchangeReport/MI_INDEX?response=csv&date=' + datestr + '&type=ALL')\n",
        "\n",
        "# 整理資料，變成表格\n",
        "df = pd.read_csv(StringIO(r.text.replace(\"=\", \"\")),\n",
        "            header=[\"證券代號\" in l for l in r.text.split(\"\\n\")].index(True)-1)\n",
        "\n",
        "# 整理一些字串：\n",
        "df = df.apply(lambda s: pd.to_numeric(s.astype(str).str.replace(\",\", \"\").replace(\"+\", \"1\").replace(\"-\", \"-1\"), errors='coerce'))\n",
        "\n",
        "# 顯示出來\n",
        "df.head()"
      ],
      "metadata": {
        "colab": {
          "base_uri": "https://localhost:8080/",
          "height": 268
        },
        "id": "FXDRUAZV25nJ",
        "outputId": "1686f9ed-3810-4f63-a3bc-2519df80a9ba"
      },
      "execution_count": null,
      "outputs": [
        {
          "output_type": "execute_result",
          "data": {
            "text/plain": [
              "   證券代號  證券名稱     成交股數  成交筆數       成交金額    開盤價    最高價    最低價    收盤價  漲跌(+/-)  \\\n",
              "0  50.0   NaN  4251739  1176  359040915  84.40  85.00  84.15  84.65      1.0   \n",
              "1  51.0   NaN     7500     3     243040  32.39  32.39  32.39  32.39      1.0   \n",
              "2  52.0   NaN     4001     5     229706  57.35  57.60  57.30  57.40      1.0   \n",
              "3  53.0   NaN        1     1         37    NaN    NaN    NaN    NaN      NaN   \n",
              "4  54.0   NaN     2001     3      48904  24.44  24.44  24.44  24.44     -1.0   \n",
              "\n",
              "   漲跌價差  最後揭示買價  最後揭示買量  最後揭示賣價  最後揭示賣量  本益比  Unnamed: 16  \n",
              "0  0.10   84.60      21   84.65      80  0.0          NaN  \n",
              "1  0.09   32.39      43   32.50       5  0.0          NaN  \n",
              "2  0.05   57.35       1   57.90       1  0.0          NaN  \n",
              "3  0.00   37.09      50   37.35       1  0.0          NaN  \n",
              "4  0.05   24.41      50   24.64       8  0.0          NaN  "
            ],
            "text/html": [
              "\n",
              "\n",
              "  <div id=\"df-426e2ab2-2f22-48cb-96c1-f41731d2f61c\">\n",
              "    <div class=\"colab-df-container\">\n",
              "      <div>\n",
              "<style scoped>\n",
              "    .dataframe tbody tr th:only-of-type {\n",
              "        vertical-align: middle;\n",
              "    }\n",
              "\n",
              "    .dataframe tbody tr th {\n",
              "        vertical-align: top;\n",
              "    }\n",
              "\n",
              "    .dataframe thead th {\n",
              "        text-align: right;\n",
              "    }\n",
              "</style>\n",
              "<table border=\"1\" class=\"dataframe\">\n",
              "  <thead>\n",
              "    <tr style=\"text-align: right;\">\n",
              "      <th></th>\n",
              "      <th>證券代號</th>\n",
              "      <th>證券名稱</th>\n",
              "      <th>成交股數</th>\n",
              "      <th>成交筆數</th>\n",
              "      <th>成交金額</th>\n",
              "      <th>開盤價</th>\n",
              "      <th>最高價</th>\n",
              "      <th>最低價</th>\n",
              "      <th>收盤價</th>\n",
              "      <th>漲跌(+/-)</th>\n",
              "      <th>漲跌價差</th>\n",
              "      <th>最後揭示買價</th>\n",
              "      <th>最後揭示買量</th>\n",
              "      <th>最後揭示賣價</th>\n",
              "      <th>最後揭示賣量</th>\n",
              "      <th>本益比</th>\n",
              "      <th>Unnamed: 16</th>\n",
              "    </tr>\n",
              "  </thead>\n",
              "  <tbody>\n",
              "    <tr>\n",
              "      <th>0</th>\n",
              "      <td>50.0</td>\n",
              "      <td>NaN</td>\n",
              "      <td>4251739</td>\n",
              "      <td>1176</td>\n",
              "      <td>359040915</td>\n",
              "      <td>84.40</td>\n",
              "      <td>85.00</td>\n",
              "      <td>84.15</td>\n",
              "      <td>84.65</td>\n",
              "      <td>1.0</td>\n",
              "      <td>0.10</td>\n",
              "      <td>84.60</td>\n",
              "      <td>21</td>\n",
              "      <td>84.65</td>\n",
              "      <td>80</td>\n",
              "      <td>0.0</td>\n",
              "      <td>NaN</td>\n",
              "    </tr>\n",
              "    <tr>\n",
              "      <th>1</th>\n",
              "      <td>51.0</td>\n",
              "      <td>NaN</td>\n",
              "      <td>7500</td>\n",
              "      <td>3</td>\n",
              "      <td>243040</td>\n",
              "      <td>32.39</td>\n",
              "      <td>32.39</td>\n",
              "      <td>32.39</td>\n",
              "      <td>32.39</td>\n",
              "      <td>1.0</td>\n",
              "      <td>0.09</td>\n",
              "      <td>32.39</td>\n",
              "      <td>43</td>\n",
              "      <td>32.50</td>\n",
              "      <td>5</td>\n",
              "      <td>0.0</td>\n",
              "      <td>NaN</td>\n",
              "    </tr>\n",
              "    <tr>\n",
              "      <th>2</th>\n",
              "      <td>52.0</td>\n",
              "      <td>NaN</td>\n",
              "      <td>4001</td>\n",
              "      <td>5</td>\n",
              "      <td>229706</td>\n",
              "      <td>57.35</td>\n",
              "      <td>57.60</td>\n",
              "      <td>57.30</td>\n",
              "      <td>57.40</td>\n",
              "      <td>1.0</td>\n",
              "      <td>0.05</td>\n",
              "      <td>57.35</td>\n",
              "      <td>1</td>\n",
              "      <td>57.90</td>\n",
              "      <td>1</td>\n",
              "      <td>0.0</td>\n",
              "      <td>NaN</td>\n",
              "    </tr>\n",
              "    <tr>\n",
              "      <th>3</th>\n",
              "      <td>53.0</td>\n",
              "      <td>NaN</td>\n",
              "      <td>1</td>\n",
              "      <td>1</td>\n",
              "      <td>37</td>\n",
              "      <td>NaN</td>\n",
              "      <td>NaN</td>\n",
              "      <td>NaN</td>\n",
              "      <td>NaN</td>\n",
              "      <td>NaN</td>\n",
              "      <td>0.00</td>\n",
              "      <td>37.09</td>\n",
              "      <td>50</td>\n",
              "      <td>37.35</td>\n",
              "      <td>1</td>\n",
              "      <td>0.0</td>\n",
              "      <td>NaN</td>\n",
              "    </tr>\n",
              "    <tr>\n",
              "      <th>4</th>\n",
              "      <td>54.0</td>\n",
              "      <td>NaN</td>\n",
              "      <td>2001</td>\n",
              "      <td>3</td>\n",
              "      <td>48904</td>\n",
              "      <td>24.44</td>\n",
              "      <td>24.44</td>\n",
              "      <td>24.44</td>\n",
              "      <td>24.44</td>\n",
              "      <td>-1.0</td>\n",
              "      <td>0.05</td>\n",
              "      <td>24.41</td>\n",
              "      <td>50</td>\n",
              "      <td>24.64</td>\n",
              "      <td>8</td>\n",
              "      <td>0.0</td>\n",
              "      <td>NaN</td>\n",
              "    </tr>\n",
              "  </tbody>\n",
              "</table>\n",
              "</div>\n",
              "      <button class=\"colab-df-convert\" onclick=\"convertToInteractive('df-426e2ab2-2f22-48cb-96c1-f41731d2f61c')\"\n",
              "              title=\"Convert this dataframe to an interactive table.\"\n",
              "              style=\"display:none;\">\n",
              "\n",
              "  <svg xmlns=\"http://www.w3.org/2000/svg\" height=\"24px\"viewBox=\"0 0 24 24\"\n",
              "       width=\"24px\">\n",
              "    <path d=\"M0 0h24v24H0V0z\" fill=\"none\"/>\n",
              "    <path d=\"M18.56 5.44l.94 2.06.94-2.06 2.06-.94-2.06-.94-.94-2.06-.94 2.06-2.06.94zm-11 1L8.5 8.5l.94-2.06 2.06-.94-2.06-.94L8.5 2.5l-.94 2.06-2.06.94zm10 10l.94 2.06.94-2.06 2.06-.94-2.06-.94-.94-2.06-.94 2.06-2.06.94z\"/><path d=\"M17.41 7.96l-1.37-1.37c-.4-.4-.92-.59-1.43-.59-.52 0-1.04.2-1.43.59L10.3 9.45l-7.72 7.72c-.78.78-.78 2.05 0 2.83L4 21.41c.39.39.9.59 1.41.59.51 0 1.02-.2 1.41-.59l7.78-7.78 2.81-2.81c.8-.78.8-2.07 0-2.86zM5.41 20L4 18.59l7.72-7.72 1.47 1.35L5.41 20z\"/>\n",
              "  </svg>\n",
              "      </button>\n",
              "\n",
              "\n",
              "\n",
              "    <div id=\"df-5b0f4777-c1f0-4534-bc4d-2626dc535ab1\">\n",
              "      <button class=\"colab-df-quickchart\" onclick=\"quickchart('df-5b0f4777-c1f0-4534-bc4d-2626dc535ab1')\"\n",
              "              title=\"Suggest charts.\"\n",
              "              style=\"display:none;\">\n",
              "\n",
              "<svg xmlns=\"http://www.w3.org/2000/svg\" height=\"24px\"viewBox=\"0 0 24 24\"\n",
              "     width=\"24px\">\n",
              "    <g>\n",
              "        <path d=\"M19 3H5c-1.1 0-2 .9-2 2v14c0 1.1.9 2 2 2h14c1.1 0 2-.9 2-2V5c0-1.1-.9-2-2-2zM9 17H7v-7h2v7zm4 0h-2V7h2v10zm4 0h-2v-4h2v4z\"/>\n",
              "    </g>\n",
              "</svg>\n",
              "      </button>\n",
              "    </div>\n",
              "\n",
              "<style>\n",
              "  .colab-df-quickchart {\n",
              "    background-color: #E8F0FE;\n",
              "    border: none;\n",
              "    border-radius: 50%;\n",
              "    cursor: pointer;\n",
              "    display: none;\n",
              "    fill: #1967D2;\n",
              "    height: 32px;\n",
              "    padding: 0 0 0 0;\n",
              "    width: 32px;\n",
              "  }\n",
              "\n",
              "  .colab-df-quickchart:hover {\n",
              "    background-color: #E2EBFA;\n",
              "    box-shadow: 0px 1px 2px rgba(60, 64, 67, 0.3), 0px 1px 3px 1px rgba(60, 64, 67, 0.15);\n",
              "    fill: #174EA6;\n",
              "  }\n",
              "\n",
              "  [theme=dark] .colab-df-quickchart {\n",
              "    background-color: #3B4455;\n",
              "    fill: #D2E3FC;\n",
              "  }\n",
              "\n",
              "  [theme=dark] .colab-df-quickchart:hover {\n",
              "    background-color: #434B5C;\n",
              "    box-shadow: 0px 1px 3px 1px rgba(0, 0, 0, 0.15);\n",
              "    filter: drop-shadow(0px 1px 2px rgba(0, 0, 0, 0.3));\n",
              "    fill: #FFFFFF;\n",
              "  }\n",
              "</style>\n",
              "\n",
              "    <script>\n",
              "      async function quickchart(key) {\n",
              "        const containerElement = document.querySelector('#' + key);\n",
              "        const charts = await google.colab.kernel.invokeFunction(\n",
              "            'suggestCharts', [key], {});\n",
              "      }\n",
              "    </script>\n",
              "\n",
              "      <script>\n",
              "\n",
              "function displayQuickchartButton(domScope) {\n",
              "  let quickchartButtonEl =\n",
              "    domScope.querySelector('#df-5b0f4777-c1f0-4534-bc4d-2626dc535ab1 button.colab-df-quickchart');\n",
              "  quickchartButtonEl.style.display =\n",
              "    google.colab.kernel.accessAllowed ? 'block' : 'none';\n",
              "}\n",
              "\n",
              "        displayQuickchartButton(document);\n",
              "      </script>\n",
              "      <style>\n",
              "    .colab-df-container {\n",
              "      display:flex;\n",
              "      flex-wrap:wrap;\n",
              "      gap: 12px;\n",
              "    }\n",
              "\n",
              "    .colab-df-convert {\n",
              "      background-color: #E8F0FE;\n",
              "      border: none;\n",
              "      border-radius: 50%;\n",
              "      cursor: pointer;\n",
              "      display: none;\n",
              "      fill: #1967D2;\n",
              "      height: 32px;\n",
              "      padding: 0 0 0 0;\n",
              "      width: 32px;\n",
              "    }\n",
              "\n",
              "    .colab-df-convert:hover {\n",
              "      background-color: #E2EBFA;\n",
              "      box-shadow: 0px 1px 2px rgba(60, 64, 67, 0.3), 0px 1px 3px 1px rgba(60, 64, 67, 0.15);\n",
              "      fill: #174EA6;\n",
              "    }\n",
              "\n",
              "    [theme=dark] .colab-df-convert {\n",
              "      background-color: #3B4455;\n",
              "      fill: #D2E3FC;\n",
              "    }\n",
              "\n",
              "    [theme=dark] .colab-df-convert:hover {\n",
              "      background-color: #434B5C;\n",
              "      box-shadow: 0px 1px 3px 1px rgba(0, 0, 0, 0.15);\n",
              "      filter: drop-shadow(0px 1px 2px rgba(0, 0, 0, 0.3));\n",
              "      fill: #FFFFFF;\n",
              "    }\n",
              "  </style>\n",
              "\n",
              "      <script>\n",
              "        const buttonEl =\n",
              "          document.querySelector('#df-426e2ab2-2f22-48cb-96c1-f41731d2f61c button.colab-df-convert');\n",
              "        buttonEl.style.display =\n",
              "          google.colab.kernel.accessAllowed ? 'block' : 'none';\n",
              "\n",
              "        async function convertToInteractive(key) {\n",
              "          const element = document.querySelector('#df-426e2ab2-2f22-48cb-96c1-f41731d2f61c');\n",
              "          const dataTable =\n",
              "            await google.colab.kernel.invokeFunction('convertToInteractive',\n",
              "                                                     [key], {});\n",
              "          if (!dataTable) return;\n",
              "\n",
              "          const docLinkHtml = 'Like what you see? Visit the ' +\n",
              "            '<a target=\"_blank\" href=https://colab.research.google.com/notebooks/data_table.ipynb>data table notebook</a>'\n",
              "            + ' to learn more about interactive tables.';\n",
              "          element.innerHTML = '';\n",
              "          dataTable['output_type'] = 'display_data';\n",
              "          await google.colab.output.renderOutput(dataTable, element);\n",
              "          const docLink = document.createElement('div');\n",
              "          docLink.innerHTML = docLinkHtml;\n",
              "          element.appendChild(docLink);\n",
              "        }\n",
              "      </script>\n",
              "    </div>\n",
              "  </div>\n"
            ]
          },
          "metadata": {},
          "execution_count": 34
        }
      ]
    },
    {
      "cell_type": "code",
      "source": [
        "import requests\n",
        "from io import StringIO\n",
        "import pandas as pd\n",
        "import numpy as np\n",
        "\n",
        "def crawl_price(date):\n",
        "    r = requests.post('http://www.twse.com.tw/exchangeReport/MI_INDEX?response=csv&date=' + str(date).split(' ')[0].replace('-','') + '&type=ALL')\n",
        "    ret = pd.read_csv(StringIO(\"\\n\".join([i.translate({ord(c): None for c in ' '})\n",
        "                                        for i in r.text.split('\\n')\n",
        "                                        if len(i.split('\",')) == 17 and i[0] != '='])), header=0)\n",
        "    ret = ret.set_index('證券代號')\n",
        "    ret['成交金額'] = ret['成交金額'].str.replace(',','')\n",
        "    ret['成交股數'] = ret['成交股數'].str.replace(',','')\n",
        "    return ret"
      ],
      "metadata": {
        "id": "9zOiCzir3clK"
      },
      "execution_count": null,
      "outputs": []
    },
    {
      "cell_type": "code",
      "source": [
        "import datetime\n",
        "import time\n",
        "\n",
        "data = {}\n",
        "n_days = 9\n",
        "date = datetime.datetime.now()\n",
        "fail_count = 0\n",
        "allow_continuous_fail_count = 5\n",
        "while len(data) < n_days:\n",
        "\n",
        "    print('parsing', date)\n",
        "    # 使用 crawPrice 爬資料\n",
        "    try:\n",
        "        # 抓資料\n",
        "        data[date.date()] = crawl_price(date)\n",
        "        print('success!')\n",
        "        fail_count = 0\n",
        "    except:\n",
        "        # 假日爬不到\n",
        "        print('fail! check the date is holiday')\n",
        "        fail_count += 1\n",
        "        if fail_count == allow_continuous_fail_count:\n",
        "            raise\n",
        "            break\n",
        "\n",
        "    # 減一天\n",
        "    date -= datetime.timedelta(days=1)\n",
        "    time.sleep(10)"
      ],
      "metadata": {
        "colab": {
          "base_uri": "https://localhost:8080/"
        },
        "id": "DP4SLzxX3i0j",
        "outputId": "a236f0e6-aae8-4cd8-9593-2f3c153ebe37"
      },
      "execution_count": null,
      "outputs": [
        {
          "output_type": "stream",
          "name": "stdout",
          "text": [
            "parsing 2023-07-18 02:39:54.671726\n",
            "fail! check the date is holiday\n",
            "parsing 2023-07-17 02:39:54.671726\n",
            "success!\n",
            "parsing 2023-07-16 02:39:54.671726\n",
            "fail! check the date is holiday\n",
            "parsing 2023-07-15 02:39:54.671726\n",
            "fail! check the date is holiday\n",
            "parsing 2023-07-14 02:39:54.671726\n",
            "success!\n",
            "parsing 2023-07-13 02:39:54.671726\n",
            "success!\n",
            "parsing 2023-07-12 02:39:54.671726\n",
            "success!\n",
            "parsing 2023-07-11 02:39:54.671726\n",
            "success!\n",
            "parsing 2023-07-10 02:39:54.671726\n",
            "success!\n",
            "parsing 2023-07-09 02:39:54.671726\n",
            "fail! check the date is holiday\n",
            "parsing 2023-07-08 02:39:54.671726\n",
            "fail! check the date is holiday\n",
            "parsing 2023-07-07 02:39:54.671726\n",
            "success!\n",
            "parsing 2023-07-06 02:39:54.671726\n",
            "success!\n",
            "parsing 2023-07-05 02:39:54.671726\n",
            "success!\n"
          ]
        }
      ]
    },
    {
      "cell_type": "code",
      "source": [
        "close = pd.DataFrame({k:d['收盤價'] for k,d in data.items()}).transpose()\n",
        "close.index = pd.to_datetime(close.index)\n",
        "close"
      ],
      "metadata": {
        "id": "OlO-sfQ24t6H",
        "outputId": "782e1cd1-3550-434b-fec7-e56d55ee7a8a",
        "colab": {
          "base_uri": "https://localhost:8080/",
          "height": 599
        }
      },
      "execution_count": null,
      "outputs": [
        {
          "output_type": "execute_result",
          "data": {
            "text/plain": [
              "證券代號         1101  1101B   1102   1103   1104   1108   1109   1110   1201  \\\n",
              "2023-07-17  36.75  48.10  43.90  21.40  31.15  16.50  17.30  19.55  19.80   \n",
              "2023-07-14  37.00  48.00  43.90  21.25  30.55  16.55  17.30  19.35  19.80   \n",
              "2023-07-13  36.80  47.95  43.80  21.25  29.95  16.55  17.35  19.20  19.70   \n",
              "2023-07-12  36.60  47.85  43.95  21.45  30.15  16.20  18.05  18.90  19.85   \n",
              "2023-07-11  36.55  47.75  43.90  21.60  29.90  16.55  18.05  19.15  19.95   \n",
              "2023-07-10  36.85  49.15  43.85  20.75  29.55  16.25  18.05  18.90  19.90   \n",
              "2023-07-07  37.30  49.10  43.95  21.00  29.75  16.10  18.15  18.60  19.95   \n",
              "2023-07-06  37.25  49.05  44.10  21.35  30.60  16.30  18.25  18.90  19.95   \n",
              "2023-07-05  37.80  49.10  44.70  21.65  30.75  16.65  18.45  19.00  20.05   \n",
              "\n",
              "證券代號         1203  ...   9940    9941  9941A    9942   9943   9944   9945  \\\n",
              "2023-07-17  41.45  ...  29.15  218.50  50.20  149.00  91.30  21.50  35.45   \n",
              "2023-07-14  41.20  ...  29.50  215.00  50.20  151.50  92.10  21.20  35.55   \n",
              "2023-07-13  41.60  ...  29.15  212.50  50.30  152.50  91.40  20.85  35.20   \n",
              "2023-07-12  42.15  ...  29.10  210.50  50.30  154.50  91.00  20.85  35.25   \n",
              "2023-07-11  42.20  ...  29.20  209.00  50.20  149.00  94.20  21.15  35.70   \n",
              "2023-07-10  42.80  ...  28.80  207.00  50.10  146.50  91.90  21.15  35.85   \n",
              "2023-07-07  43.85  ...  28.40  204.50  50.00  148.00  91.40  21.60  35.40   \n",
              "2023-07-06  43.75  ...  28.45  205.00  49.95  151.50  91.10  21.60  35.55   \n",
              "2023-07-05  44.00  ...  28.45  210.00  49.95  149.50  93.70  21.95  36.15   \n",
              "\n",
              "證券代號         9946   9955    9958  \n",
              "2023-07-17  13.70  23.30  149.00  \n",
              "2023-07-14  13.85  23.50  144.00  \n",
              "2023-07-13  13.70  23.10  144.50  \n",
              "2023-07-12  14.05  23.05  143.00  \n",
              "2023-07-11  14.00  23.00  140.50  \n",
              "2023-07-10  14.00  23.10  146.00  \n",
              "2023-07-07  14.15  23.35  144.00  \n",
              "2023-07-06  14.25  23.80  136.50  \n",
              "2023-07-05  14.30  23.90  131.00  \n",
              "\n",
              "[9 rows x 1016 columns]"
            ],
            "text/html": [
              "\n",
              "\n",
              "  <div id=\"df-cff6c49b-4ca7-41d0-87ad-32ed6812bc46\">\n",
              "    <div class=\"colab-df-container\">\n",
              "      <div>\n",
              "<style scoped>\n",
              "    .dataframe tbody tr th:only-of-type {\n",
              "        vertical-align: middle;\n",
              "    }\n",
              "\n",
              "    .dataframe tbody tr th {\n",
              "        vertical-align: top;\n",
              "    }\n",
              "\n",
              "    .dataframe thead th {\n",
              "        text-align: right;\n",
              "    }\n",
              "</style>\n",
              "<table border=\"1\" class=\"dataframe\">\n",
              "  <thead>\n",
              "    <tr style=\"text-align: right;\">\n",
              "      <th>證券代號</th>\n",
              "      <th>1101</th>\n",
              "      <th>1101B</th>\n",
              "      <th>1102</th>\n",
              "      <th>1103</th>\n",
              "      <th>1104</th>\n",
              "      <th>1108</th>\n",
              "      <th>1109</th>\n",
              "      <th>1110</th>\n",
              "      <th>1201</th>\n",
              "      <th>1203</th>\n",
              "      <th>...</th>\n",
              "      <th>9940</th>\n",
              "      <th>9941</th>\n",
              "      <th>9941A</th>\n",
              "      <th>9942</th>\n",
              "      <th>9943</th>\n",
              "      <th>9944</th>\n",
              "      <th>9945</th>\n",
              "      <th>9946</th>\n",
              "      <th>9955</th>\n",
              "      <th>9958</th>\n",
              "    </tr>\n",
              "  </thead>\n",
              "  <tbody>\n",
              "    <tr>\n",
              "      <th>2023-07-17</th>\n",
              "      <td>36.75</td>\n",
              "      <td>48.10</td>\n",
              "      <td>43.90</td>\n",
              "      <td>21.40</td>\n",
              "      <td>31.15</td>\n",
              "      <td>16.50</td>\n",
              "      <td>17.30</td>\n",
              "      <td>19.55</td>\n",
              "      <td>19.80</td>\n",
              "      <td>41.45</td>\n",
              "      <td>...</td>\n",
              "      <td>29.15</td>\n",
              "      <td>218.50</td>\n",
              "      <td>50.20</td>\n",
              "      <td>149.00</td>\n",
              "      <td>91.30</td>\n",
              "      <td>21.50</td>\n",
              "      <td>35.45</td>\n",
              "      <td>13.70</td>\n",
              "      <td>23.30</td>\n",
              "      <td>149.00</td>\n",
              "    </tr>\n",
              "    <tr>\n",
              "      <th>2023-07-14</th>\n",
              "      <td>37.00</td>\n",
              "      <td>48.00</td>\n",
              "      <td>43.90</td>\n",
              "      <td>21.25</td>\n",
              "      <td>30.55</td>\n",
              "      <td>16.55</td>\n",
              "      <td>17.30</td>\n",
              "      <td>19.35</td>\n",
              "      <td>19.80</td>\n",
              "      <td>41.20</td>\n",
              "      <td>...</td>\n",
              "      <td>29.50</td>\n",
              "      <td>215.00</td>\n",
              "      <td>50.20</td>\n",
              "      <td>151.50</td>\n",
              "      <td>92.10</td>\n",
              "      <td>21.20</td>\n",
              "      <td>35.55</td>\n",
              "      <td>13.85</td>\n",
              "      <td>23.50</td>\n",
              "      <td>144.00</td>\n",
              "    </tr>\n",
              "    <tr>\n",
              "      <th>2023-07-13</th>\n",
              "      <td>36.80</td>\n",
              "      <td>47.95</td>\n",
              "      <td>43.80</td>\n",
              "      <td>21.25</td>\n",
              "      <td>29.95</td>\n",
              "      <td>16.55</td>\n",
              "      <td>17.35</td>\n",
              "      <td>19.20</td>\n",
              "      <td>19.70</td>\n",
              "      <td>41.60</td>\n",
              "      <td>...</td>\n",
              "      <td>29.15</td>\n",
              "      <td>212.50</td>\n",
              "      <td>50.30</td>\n",
              "      <td>152.50</td>\n",
              "      <td>91.40</td>\n",
              "      <td>20.85</td>\n",
              "      <td>35.20</td>\n",
              "      <td>13.70</td>\n",
              "      <td>23.10</td>\n",
              "      <td>144.50</td>\n",
              "    </tr>\n",
              "    <tr>\n",
              "      <th>2023-07-12</th>\n",
              "      <td>36.60</td>\n",
              "      <td>47.85</td>\n",
              "      <td>43.95</td>\n",
              "      <td>21.45</td>\n",
              "      <td>30.15</td>\n",
              "      <td>16.20</td>\n",
              "      <td>18.05</td>\n",
              "      <td>18.90</td>\n",
              "      <td>19.85</td>\n",
              "      <td>42.15</td>\n",
              "      <td>...</td>\n",
              "      <td>29.10</td>\n",
              "      <td>210.50</td>\n",
              "      <td>50.30</td>\n",
              "      <td>154.50</td>\n",
              "      <td>91.00</td>\n",
              "      <td>20.85</td>\n",
              "      <td>35.25</td>\n",
              "      <td>14.05</td>\n",
              "      <td>23.05</td>\n",
              "      <td>143.00</td>\n",
              "    </tr>\n",
              "    <tr>\n",
              "      <th>2023-07-11</th>\n",
              "      <td>36.55</td>\n",
              "      <td>47.75</td>\n",
              "      <td>43.90</td>\n",
              "      <td>21.60</td>\n",
              "      <td>29.90</td>\n",
              "      <td>16.55</td>\n",
              "      <td>18.05</td>\n",
              "      <td>19.15</td>\n",
              "      <td>19.95</td>\n",
              "      <td>42.20</td>\n",
              "      <td>...</td>\n",
              "      <td>29.20</td>\n",
              "      <td>209.00</td>\n",
              "      <td>50.20</td>\n",
              "      <td>149.00</td>\n",
              "      <td>94.20</td>\n",
              "      <td>21.15</td>\n",
              "      <td>35.70</td>\n",
              "      <td>14.00</td>\n",
              "      <td>23.00</td>\n",
              "      <td>140.50</td>\n",
              "    </tr>\n",
              "    <tr>\n",
              "      <th>2023-07-10</th>\n",
              "      <td>36.85</td>\n",
              "      <td>49.15</td>\n",
              "      <td>43.85</td>\n",
              "      <td>20.75</td>\n",
              "      <td>29.55</td>\n",
              "      <td>16.25</td>\n",
              "      <td>18.05</td>\n",
              "      <td>18.90</td>\n",
              "      <td>19.90</td>\n",
              "      <td>42.80</td>\n",
              "      <td>...</td>\n",
              "      <td>28.80</td>\n",
              "      <td>207.00</td>\n",
              "      <td>50.10</td>\n",
              "      <td>146.50</td>\n",
              "      <td>91.90</td>\n",
              "      <td>21.15</td>\n",
              "      <td>35.85</td>\n",
              "      <td>14.00</td>\n",
              "      <td>23.10</td>\n",
              "      <td>146.00</td>\n",
              "    </tr>\n",
              "    <tr>\n",
              "      <th>2023-07-07</th>\n",
              "      <td>37.30</td>\n",
              "      <td>49.10</td>\n",
              "      <td>43.95</td>\n",
              "      <td>21.00</td>\n",
              "      <td>29.75</td>\n",
              "      <td>16.10</td>\n",
              "      <td>18.15</td>\n",
              "      <td>18.60</td>\n",
              "      <td>19.95</td>\n",
              "      <td>43.85</td>\n",
              "      <td>...</td>\n",
              "      <td>28.40</td>\n",
              "      <td>204.50</td>\n",
              "      <td>50.00</td>\n",
              "      <td>148.00</td>\n",
              "      <td>91.40</td>\n",
              "      <td>21.60</td>\n",
              "      <td>35.40</td>\n",
              "      <td>14.15</td>\n",
              "      <td>23.35</td>\n",
              "      <td>144.00</td>\n",
              "    </tr>\n",
              "    <tr>\n",
              "      <th>2023-07-06</th>\n",
              "      <td>37.25</td>\n",
              "      <td>49.05</td>\n",
              "      <td>44.10</td>\n",
              "      <td>21.35</td>\n",
              "      <td>30.60</td>\n",
              "      <td>16.30</td>\n",
              "      <td>18.25</td>\n",
              "      <td>18.90</td>\n",
              "      <td>19.95</td>\n",
              "      <td>43.75</td>\n",
              "      <td>...</td>\n",
              "      <td>28.45</td>\n",
              "      <td>205.00</td>\n",
              "      <td>49.95</td>\n",
              "      <td>151.50</td>\n",
              "      <td>91.10</td>\n",
              "      <td>21.60</td>\n",
              "      <td>35.55</td>\n",
              "      <td>14.25</td>\n",
              "      <td>23.80</td>\n",
              "      <td>136.50</td>\n",
              "    </tr>\n",
              "    <tr>\n",
              "      <th>2023-07-05</th>\n",
              "      <td>37.80</td>\n",
              "      <td>49.10</td>\n",
              "      <td>44.70</td>\n",
              "      <td>21.65</td>\n",
              "      <td>30.75</td>\n",
              "      <td>16.65</td>\n",
              "      <td>18.45</td>\n",
              "      <td>19.00</td>\n",
              "      <td>20.05</td>\n",
              "      <td>44.00</td>\n",
              "      <td>...</td>\n",
              "      <td>28.45</td>\n",
              "      <td>210.00</td>\n",
              "      <td>49.95</td>\n",
              "      <td>149.50</td>\n",
              "      <td>93.70</td>\n",
              "      <td>21.95</td>\n",
              "      <td>36.15</td>\n",
              "      <td>14.30</td>\n",
              "      <td>23.90</td>\n",
              "      <td>131.00</td>\n",
              "    </tr>\n",
              "  </tbody>\n",
              "</table>\n",
              "<p>9 rows × 1016 columns</p>\n",
              "</div>\n",
              "      <button class=\"colab-df-convert\" onclick=\"convertToInteractive('df-cff6c49b-4ca7-41d0-87ad-32ed6812bc46')\"\n",
              "              title=\"Convert this dataframe to an interactive table.\"\n",
              "              style=\"display:none;\">\n",
              "\n",
              "  <svg xmlns=\"http://www.w3.org/2000/svg\" height=\"24px\"viewBox=\"0 0 24 24\"\n",
              "       width=\"24px\">\n",
              "    <path d=\"M0 0h24v24H0V0z\" fill=\"none\"/>\n",
              "    <path d=\"M18.56 5.44l.94 2.06.94-2.06 2.06-.94-2.06-.94-.94-2.06-.94 2.06-2.06.94zm-11 1L8.5 8.5l.94-2.06 2.06-.94-2.06-.94L8.5 2.5l-.94 2.06-2.06.94zm10 10l.94 2.06.94-2.06 2.06-.94-2.06-.94-.94-2.06-.94 2.06-2.06.94z\"/><path d=\"M17.41 7.96l-1.37-1.37c-.4-.4-.92-.59-1.43-.59-.52 0-1.04.2-1.43.59L10.3 9.45l-7.72 7.72c-.78.78-.78 2.05 0 2.83L4 21.41c.39.39.9.59 1.41.59.51 0 1.02-.2 1.41-.59l7.78-7.78 2.81-2.81c.8-.78.8-2.07 0-2.86zM5.41 20L4 18.59l7.72-7.72 1.47 1.35L5.41 20z\"/>\n",
              "  </svg>\n",
              "      </button>\n",
              "\n",
              "\n",
              "\n",
              "    <div id=\"df-9425de16-0dcf-40bc-87ab-b8febb11ecc5\">\n",
              "      <button class=\"colab-df-quickchart\" onclick=\"quickchart('df-9425de16-0dcf-40bc-87ab-b8febb11ecc5')\"\n",
              "              title=\"Suggest charts.\"\n",
              "              style=\"display:none;\">\n",
              "\n",
              "<svg xmlns=\"http://www.w3.org/2000/svg\" height=\"24px\"viewBox=\"0 0 24 24\"\n",
              "     width=\"24px\">\n",
              "    <g>\n",
              "        <path d=\"M19 3H5c-1.1 0-2 .9-2 2v14c0 1.1.9 2 2 2h14c1.1 0 2-.9 2-2V5c0-1.1-.9-2-2-2zM9 17H7v-7h2v7zm4 0h-2V7h2v10zm4 0h-2v-4h2v4z\"/>\n",
              "    </g>\n",
              "</svg>\n",
              "      </button>\n",
              "    </div>\n",
              "\n",
              "<style>\n",
              "  .colab-df-quickchart {\n",
              "    background-color: #E8F0FE;\n",
              "    border: none;\n",
              "    border-radius: 50%;\n",
              "    cursor: pointer;\n",
              "    display: none;\n",
              "    fill: #1967D2;\n",
              "    height: 32px;\n",
              "    padding: 0 0 0 0;\n",
              "    width: 32px;\n",
              "  }\n",
              "\n",
              "  .colab-df-quickchart:hover {\n",
              "    background-color: #E2EBFA;\n",
              "    box-shadow: 0px 1px 2px rgba(60, 64, 67, 0.3), 0px 1px 3px 1px rgba(60, 64, 67, 0.15);\n",
              "    fill: #174EA6;\n",
              "  }\n",
              "\n",
              "  [theme=dark] .colab-df-quickchart {\n",
              "    background-color: #3B4455;\n",
              "    fill: #D2E3FC;\n",
              "  }\n",
              "\n",
              "  [theme=dark] .colab-df-quickchart:hover {\n",
              "    background-color: #434B5C;\n",
              "    box-shadow: 0px 1px 3px 1px rgba(0, 0, 0, 0.15);\n",
              "    filter: drop-shadow(0px 1px 2px rgba(0, 0, 0, 0.3));\n",
              "    fill: #FFFFFF;\n",
              "  }\n",
              "</style>\n",
              "\n",
              "    <script>\n",
              "      async function quickchart(key) {\n",
              "        const containerElement = document.querySelector('#' + key);\n",
              "        const charts = await google.colab.kernel.invokeFunction(\n",
              "            'suggestCharts', [key], {});\n",
              "      }\n",
              "    </script>\n",
              "\n",
              "      <script>\n",
              "\n",
              "function displayQuickchartButton(domScope) {\n",
              "  let quickchartButtonEl =\n",
              "    domScope.querySelector('#df-9425de16-0dcf-40bc-87ab-b8febb11ecc5 button.colab-df-quickchart');\n",
              "  quickchartButtonEl.style.display =\n",
              "    google.colab.kernel.accessAllowed ? 'block' : 'none';\n",
              "}\n",
              "\n",
              "        displayQuickchartButton(document);\n",
              "      </script>\n",
              "      <style>\n",
              "    .colab-df-container {\n",
              "      display:flex;\n",
              "      flex-wrap:wrap;\n",
              "      gap: 12px;\n",
              "    }\n",
              "\n",
              "    .colab-df-convert {\n",
              "      background-color: #E8F0FE;\n",
              "      border: none;\n",
              "      border-radius: 50%;\n",
              "      cursor: pointer;\n",
              "      display: none;\n",
              "      fill: #1967D2;\n",
              "      height: 32px;\n",
              "      padding: 0 0 0 0;\n",
              "      width: 32px;\n",
              "    }\n",
              "\n",
              "    .colab-df-convert:hover {\n",
              "      background-color: #E2EBFA;\n",
              "      box-shadow: 0px 1px 2px rgba(60, 64, 67, 0.3), 0px 1px 3px 1px rgba(60, 64, 67, 0.15);\n",
              "      fill: #174EA6;\n",
              "    }\n",
              "\n",
              "    [theme=dark] .colab-df-convert {\n",
              "      background-color: #3B4455;\n",
              "      fill: #D2E3FC;\n",
              "    }\n",
              "\n",
              "    [theme=dark] .colab-df-convert:hover {\n",
              "      background-color: #434B5C;\n",
              "      box-shadow: 0px 1px 3px 1px rgba(0, 0, 0, 0.15);\n",
              "      filter: drop-shadow(0px 1px 2px rgba(0, 0, 0, 0.3));\n",
              "      fill: #FFFFFF;\n",
              "    }\n",
              "  </style>\n",
              "\n",
              "      <script>\n",
              "        const buttonEl =\n",
              "          document.querySelector('#df-cff6c49b-4ca7-41d0-87ad-32ed6812bc46 button.colab-df-convert');\n",
              "        buttonEl.style.display =\n",
              "          google.colab.kernel.accessAllowed ? 'block' : 'none';\n",
              "\n",
              "        async function convertToInteractive(key) {\n",
              "          const element = document.querySelector('#df-cff6c49b-4ca7-41d0-87ad-32ed6812bc46');\n",
              "          const dataTable =\n",
              "            await google.colab.kernel.invokeFunction('convertToInteractive',\n",
              "                                                     [key], {});\n",
              "          if (!dataTable) return;\n",
              "\n",
              "          const docLinkHtml = 'Like what you see? Visit the ' +\n",
              "            '<a target=\"_blank\" href=https://colab.research.google.com/notebooks/data_table.ipynb>data table notebook</a>'\n",
              "            + ' to learn more about interactive tables.';\n",
              "          element.innerHTML = '';\n",
              "          dataTable['output_type'] = 'display_data';\n",
              "          await google.colab.output.renderOutput(dataTable, element);\n",
              "          const docLink = document.createElement('div');\n",
              "          docLink.innerHTML = docLinkHtml;\n",
              "          element.appendChild(docLink);\n",
              "        }\n",
              "      </script>\n",
              "    </div>\n",
              "  </div>\n"
            ]
          },
          "metadata": {},
          "execution_count": 37
        }
      ]
    },
    {
      "cell_type": "markdown",
      "source": [
        "linspace指在依定範圍內來均勻地撒點(等差數列)\n"
      ],
      "metadata": {
        "id": "ijLs_uPWdKsK"
      }
    },
    {
      "cell_type": "markdown",
      "source": [
        "numpy.arange 以等差數列的形式產生指定間隔"
      ],
      "metadata": {
        "id": "yOgNp4MKeIsk"
      }
    },
    {
      "cell_type": "markdown",
      "source": [
        "numpy.array 指最基本用來創造array的方法常用來初始化陣列"
      ],
      "metadata": {
        "id": "qc0gxcCieFw8"
      }
    },
    {
      "cell_type": "markdown",
      "source": [
        "bool(布林值) int(整數) float(浮點數) complex(複數)"
      ],
      "metadata": {
        "id": "mmmvEKr-eCxN"
      }
    },
    {
      "cell_type": "markdown",
      "source": [
        "*   start 從某數開始，預設0\n",
        "*   stop 到某數停止(不含)\n",
        "*   step 間隔多少\n",
        "\n",
        "\n",
        "\n"
      ],
      "metadata": {
        "id": "xfrw4raWed9b"
      }
    }
  ]
}